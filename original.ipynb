{
 "cells": [
  {
   "cell_type": "code",
   "execution_count": 1,
   "outputs": [],
   "source": [
    "import matplotlib.pyplot as plt\n",
    "import matplotlib.patches as mpatches\n",
    "from matplotlib.animation import FuncAnimation\n",
    "from sklearn import datasets\n",
    "from scipy.spatial import ConvexHull\n",
    "import numpy as np\n",
    "import random\n",
    "import math"
   ],
   "metadata": {
    "collapsed": false,
    "pycharm": {
     "name": "#%%\n"
    }
   }
  },
  {
   "cell_type": "code",
   "execution_count": 2,
   "outputs": [],
   "source": [
    "# config\n",
    "dtset_name = ['iris', 'wine', 'breast_cancer'][2] # sklearn datasets\n",
    "mst_fn_name = ['euclidian_distance', 'angle'][1] # mst cost function\n",
    "output_dir = 'output'"
   ],
   "metadata": {
    "collapsed": false,
    "pycharm": {
     "name": "#%%\n"
    }
   }
  },
  {
   "cell_type": "code",
   "execution_count": 3,
   "outputs": [
    {
     "name": "stdout",
     "output_type": "stream",
     "text": [
      "Total points: 569\n"
     ]
    }
   ],
   "source": [
    "original_data = getattr(datasets, 'load_' + dtset_name)()\n",
    "N = len(original_data.data)\n",
    "print('Total points:', N)"
   ],
   "metadata": {
    "collapsed": false,
    "pycharm": {
     "name": "#%%\n"
    }
   }
  },
  {
   "cell_type": "code",
   "execution_count": 4,
   "outputs": [],
   "source": [
    "X = original_data.data\n",
    "y = original_data.target\n",
    "X_features = original_data.feature_names\n",
    "y_targets = original_data.target_names"
   ],
   "metadata": {
    "collapsed": false,
    "pycharm": {
     "name": "#%%\n"
    }
   }
  },
  {
   "cell_type": "code",
   "execution_count": 5,
   "outputs": [],
   "source": [
    "def random_colors(size):\n",
    "    return [\"#\"+''.join([random.choice('0123456789ABCDEF') for i in range(6)]) for j in range(size)]\n",
    "\n",
    "def plot_map(dt, label):\n",
    "    data = dt.copy()\n",
    "    plt.clf()\n",
    "    X = []\n",
    "    Y = []\n",
    "    color = []\n",
    "    uniq_labels = np.unique(label)\n",
    "    colors = random_colors(len(uniq_labels))\n",
    "    # print(colors)\n",
    "    for dt in data:\n",
    "        for i in dt:\n",
    "            X.append(dt[i][0])\n",
    "            Y.append(dt[i][1])\n",
    "            color.append(colors[label[i]])\n",
    "\n",
    "    patches = []\n",
    "    for i in range(len(uniq_labels)):\n",
    "        pcolor = colors[i]\n",
    "        label = i\n",
    "        patch = mpatches.Patch(color=pcolor, label=label)\n",
    "        patches.append(patch)\n",
    "    plt.legend(handles=patches)\n",
    "    plt.scatter(X, Y, c=color)"
   ],
   "metadata": {
    "collapsed": false,
    "pycharm": {
     "name": "#%%\n"
    }
   }
  },
  {
   "cell_type": "code",
   "execution_count": 6,
   "outputs": [],
   "source": [
    "# distance and angle function\n",
    "def euclidian_distance(pt1, pt2):\n",
    "    point1 = pt1\n",
    "    point2 = pt2\n",
    "    diff = point1 - point2\n",
    "    return np.sqrt(np.dot(diff, diff))\n",
    "\n",
    "def angle(pt1, pt2):\n",
    "    point1 = pt1.copy()\n",
    "    point2 = pt2.copy()\n",
    "    inner = np.inner(point1, point2)\n",
    "    norm = np.linalg.norm(point1) * np.linalg.norm(point2)\n",
    "    cos = inner / norm\n",
    "    rad =  np.arccos(np.clip(cos, -1.0, 1.0))\n",
    "    return np.rad2deg(rad)\n",
    "\n",
    "mst_fn = locals()[mst_fn_name]"
   ],
   "metadata": {
    "collapsed": false,
    "pycharm": {
     "name": "#%%\n"
    }
   }
  },
  {
   "cell_type": "code",
   "execution_count": 7,
   "outputs": [],
   "source": [
    "def cost_matrix(dt, cost_fn):\n",
    "    data = dt.copy()\n",
    "    h, _ = data.shape\n",
    "    # print(h)\n",
    "    cost_matrix = np.zeros((h, h))\n",
    "    for x in range(h):\n",
    "        for y in range(x, h):\n",
    "            # dist = euclidian_distance(data.iloc[x], data.iloc[y])\n",
    "            dist = cost_fn(data[x], data[y])\n",
    "            cost_matrix[x][y], cost_matrix[y][x] = dist, dist\n",
    "    return cost_matrix\n",
    "\n",
    "def mst(dt):\n",
    "    data = dt.copy()\n",
    "    h, _ = data.shape\n",
    "    INF = 9999999\n",
    "    cm = cost_matrix(data, mst_fn)\n",
    "    # print(cm)\n",
    "    snode = np.zeros(h)\n",
    "    nedges = 0\n",
    "    snode[0] = True\n",
    "\n",
    "    palist = []\n",
    "    pblist = []\n",
    "    cost = []\n",
    "    while nedges < h - 1:\n",
    "        min = INF\n",
    "        a, b = 0, 0\n",
    "        for m in range(h):\n",
    "            if snode[m]:\n",
    "                for n in range(h):\n",
    "                    if (not snode[n]) and cm[m][n]:\n",
    "                        # not in selected and there is an edge\n",
    "                        if min > cm[m][n]:\n",
    "                            min = cm[m][n]\n",
    "                            a = m\n",
    "                            b = n\n",
    "        # print(str(a) + \"-\" + str(b) + \":\" + str(cm[a][b]))\n",
    "        palist.append(a)\n",
    "        pblist.append(b)\n",
    "        cost.append(cm[a][b])\n",
    "        snode[b] = True\n",
    "        nedges += 1\n",
    "    srtd = sorted(zip(cost, zip(palist, pblist)))\n",
    "    edges = [st[1] for st in srtd]\n",
    "    cst = [st[0] for st in srtd]\n",
    "    return edges, cst, srtd"
   ],
   "metadata": {
    "collapsed": false,
    "pycharm": {
     "name": "#%%\n"
    }
   }
  },
  {
   "cell_type": "code",
   "execution_count": 8,
   "outputs": [],
   "source": [
    "# rotation function\n",
    "def rotation_fn(pt, deg):\n",
    "    point = pt.copy()\n",
    "    x = point[0]\n",
    "    y = point[1]\n",
    "    rad = math.radians(deg)\n",
    "    cos = np.cos(rad)\n",
    "    sin = np.sin(rad)\n",
    "    x_prime = x * cos - y * sin\n",
    "    y_prime = x * sin + y * cos\n",
    "    return [x_prime, y_prime]\n",
    "\n",
    "def rotate(pts, deg):\n",
    "    arr_point = pts.copy()\n",
    "    center = np.min(arr_point, axis=0) / 2\n",
    "    for i in range(len(arr_point)):\n",
    "        arr_point[i] -= center\n",
    "    for i in range(len(arr_point)):\n",
    "        arr_point[i] = rotation_fn(arr_point[i], deg)\n",
    "    for i in range(len(arr_point)):\n",
    "        arr_point[i] += center\n",
    "    return arr_point\n",
    "\n",
    "# main driver functions\n",
    "def count_weight(pts):\n",
    "    points = pts.copy()\n",
    "    weight = 0\n",
    "    for point in points:\n",
    "        y = point[1]\n",
    "        weight += y\n",
    "    return weight\n",
    "\n",
    "def make_convex(pts, reverse):\n",
    "    arr_point = pts.copy()\n",
    "    all_x_zero = True\n",
    "    for i in arr_point:\n",
    "        if i[0] != 0:\n",
    "            all_x_zero = False\n",
    "    hull = arr_point.copy()\n",
    "    if not all_x_zero:\n",
    "        hull = ConvexHull(arr_point.copy()).points\n",
    "    threshold_weight = None\n",
    "    final_points = None\n",
    "    agl = None\n",
    "\n",
    "    for i in range(360):\n",
    "        temp_points = rotate(hull, i)\n",
    "        weight = count_weight(temp_points)\n",
    "        # print(weight)\n",
    "        if threshold_weight is None:\n",
    "            threshold_weight = weight\n",
    "            # final_points = temp_points\n",
    "            agl = i\n",
    "        elif not reverse and weight > threshold_weight:\n",
    "            threshold_weight = weight\n",
    "            # final_points = temp_points\n",
    "            agl = i\n",
    "        elif reverse and weight < threshold_weight:\n",
    "            threshold_weight = weight\n",
    "            # final_points = temp_points\n",
    "            agl = i\n",
    "\n",
    "    return rotate(arr_point, i), agl"
   ],
   "metadata": {
    "collapsed": false,
    "pycharm": {
     "name": "#%%\n"
    }
   }
  },
  {
   "cell_type": "code",
   "execution_count": 9,
   "outputs": [
    {
     "data": {
      "text/plain": "<Figure size 432x288 with 1 Axes>",
      "image/png": "[encoded data removed]"
     },
     "metadata": {
      "needs_background": "light"
     },
     "output_type": "display_data"
    }
   ],
   "source": [
    "def get_component(cps, point):\n",
    "    components = cps.copy()\n",
    "    for i in range(len(components)):\n",
    "        if point in components[i]:\n",
    "            return i;\n",
    "\n",
    "def rotation(cp, convex = True):\n",
    "    component = cp.copy()\n",
    "    # TODO - rotate component along origin:::: type(component) = dict\n",
    "    ids = []\n",
    "    points = []\n",
    "    for i in component:\n",
    "        ids.append(i)\n",
    "        points.append(component[i])\n",
    "    points, agl = make_convex(np.array(points), convex)\n",
    "\n",
    "    count = 0\n",
    "    for id in ids:\n",
    "        component[id] = points[count]\n",
    "        count += 1\n",
    "    return component\n",
    "\n",
    "def align_hull_wrapper( cp, p_index, convex = True):\n",
    "    # center the component to origin on point\n",
    "    component = cp.copy()\n",
    "    point = component[p_index].copy()\n",
    "    for i in component:\n",
    "        component[i] = [component[i][0] - point[0], component[i][1] - point[1]]\n",
    "\n",
    "    if len(component) == 1:\n",
    "        pass\n",
    "    elif len(component) == 2:\n",
    "        keys = list(component.keys())\n",
    "        values = np.array(list(component.values()))\n",
    "        dist = euclidian_distance(values[0][0].copy(), values[0][1].copy()).astype('float64')\n",
    "        component[keys[0]] = [0.0,0.0]\n",
    "        component[keys[1]] = [dist, 0.0]\n",
    "    elif convex:\n",
    "        # for valley\n",
    "        component = rotation(component.copy(), convex)\n",
    "        pass\n",
    "    else:\n",
    "        # for hill\n",
    "        component = rotation(component.copy(), convex)\n",
    "        pass\n",
    "\n",
    "    # get back the original position\n",
    "    for i in component:\n",
    "        component[i] = [component[i][0] + point[0], component[i][1] + point[1]]\n",
    "    # print(component)\n",
    "    return component\n",
    "\n",
    "def join_r2(cpa, cpb, pa_index, pb_index, el):\n",
    "    ca = cpa.copy()\n",
    "    cb = cpb.copy()\n",
    "    # align hulls\n",
    "    ca = align_hull_wrapper(ca, pa_index)\n",
    "    cb = align_hull_wrapper(cb, pb_index, False)\n",
    "\n",
    "    # points\n",
    "    pa_point = ca[pa_index].copy()\n",
    "    pb_point = cb[pb_index].copy()\n",
    "\n",
    "    # take pa_point to required pb_point\n",
    "    pa_point[1] += el\n",
    "\n",
    "    diff_x, diff_y = pa_point[0] - pb_point[0], pa_point[1] - pb_point[1]\n",
    "\n",
    "    for i in cb:\n",
    "        cb[i][0] += diff_x\n",
    "        cb[i][1] += diff_y\n",
    "    return ca, cb;\n",
    "\n",
    "def driver(dt):\n",
    "    data = dt.copy()\n",
    "    edges, cst, _ = mst(data)\n",
    "    # P_prime = [[0,0] for i in range(N)]\n",
    "    C_set = [{i: [0,0]} for i in range(N)]\n",
    "    for i in range (N-1):\n",
    "        # points\n",
    "        pa_index, pb_index = edges[i]\n",
    "        edge_len = cst[i].copy()\n",
    "\n",
    "        # components\n",
    "        ca_index, cb_index = get_component(C_set, pa_index), get_component(C_set, pb_index)\n",
    "        # comp_a = C_set[ca_index]\n",
    "        # comp_b = C_set[cb_index]\n",
    "\n",
    "        # plot in R2-plane\n",
    "        comp_a, comp_b = join_r2(C_set[ca_index], C_set[cb_index], pa_index, pb_index, edge_len)\n",
    "\n",
    "        C_set[ca_index] = comp_a\n",
    "        C_set[cb_index] = comp_b\n",
    "\n",
    "        C_set[ca_index].update(C_set[cb_index])\n",
    "        del C_set[cb_index]\n",
    "    return C_set\n",
    "\n",
    "# ani = FuncAnimation(plt.gcf(), driver, fargs=(X, y), interval=10)\n",
    "points = driver(X)\n",
    "plot_map(points, y)\n",
    "plt.savefig(output_dir + '/' + dtset_name + '_' + mst_fn_name + '_1.png')\n",
    "plt.show()"
   ],
   "metadata": {
    "collapsed": false,
    "pycharm": {
     "name": "#%%\n"
    }
   }
  },
  {
   "cell_type": "code",
   "execution_count": 10,
   "outputs": [
    {
     "data": {
      "text/plain": "<Figure size 432x288 with 1 Axes>",
      "image/png": "[encoded data removed]"
     },
     "metadata": {
      "needs_background": "light"
     },
     "output_type": "display_data"
    }
   ],
   "source": [
    "projected_data = []\n",
    "for i in range(len(X)):\n",
    "    projected_data.append(points[0][i])\n",
    "ppoints = driver(np.array(projected_data))\n",
    "plot_map(ppoints, y)\n",
    "plt.savefig(output_dir + '/' + dtset_name + '_' + mst_fn_name + '_2.png')\n",
    "plt.show()"
   ],
   "metadata": {
    "collapsed": false,
    "pycharm": {
     "name": "#%%\n"
    }
   }
  }
 ],
 "metadata": {
  "kernelspec": {
   "display_name": "Python 3",
   "language": "python",
   "name": "python3"
  },
  "language_info": {
   "codemirror_mode": {
    "name": "ipython",
    "version": 2
   },
   "file_extension": ".py",
   "mimetype": "text/x-python",
   "name": "python",
   "nbconvert_exporter": "python",
   "pygments_lexer": "ipython2",
   "version": "2.7.6"
  }
 },
 "nbformat": 4,
 "nbformat_minor": 0
}