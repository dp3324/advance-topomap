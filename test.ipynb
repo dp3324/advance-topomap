{
 "cells": [
  {
   "cell_type": "code",
   "execution_count": 1,
   "outputs": [],
   "source": [
    "import numpy as np\n",
    "import math\n",
    "from scipy.spatial import ConvexHull\n",
    "import matplotlib.pyplot as plt"
   ],
   "metadata": {
    "collapsed": false,
    "pycharm": {
     "name": "#%%\n"
    }
   }
  },
  {
   "cell_type": "code",
   "execution_count": 2,
   "outputs": [],
   "source": [
    "def plot(data, title=''):\n",
    "    # plt.scatter(points[:, 0], points[:, 1])\n",
    "    x = data[:, 0]\n",
    "    y = data[:, 1]\n",
    "    plt.plot(x, y)\n",
    "    plt.title(title)\n",
    "    plt.show()"
   ],
   "metadata": {
    "collapsed": false,
    "pycharm": {
     "name": "#%%\n"
    }
   }
  },
  {
   "cell_type": "code",
   "execution_count": 3,
   "outputs": [],
   "source": [
    "def rotation(pt, deg):\n",
    "    point = pt.copy()\n",
    "    x = point[0]\n",
    "    y = point[1]\n",
    "    rad = math.radians(deg)\n",
    "    cos = np.cos(rad)\n",
    "    sin = np.sin(rad)\n",
    "    x_prime = x * cos - y * sin\n",
    "    y_prime = x * sin + y * cos\n",
    "    return [x_prime, y_prime]\n",
    "\n",
    "def rotate(points, deg):\n",
    "    arr_point = points.copy()\n",
    "    center = np.min(arr_point, axis=0) / 2\n",
    "    for i in range(len(arr_point)):\n",
    "        arr_point[i] -= center\n",
    "    for i in range(len(arr_point)):\n",
    "        arr_point[i] = rotation(arr_point[i], deg)\n",
    "    for i in range(len(arr_point)):\n",
    "        arr_point[i] += center\n",
    "    return arr_point\n"
   ],
   "metadata": {
    "collapsed": false,
    "pycharm": {
     "name": "#%%\n"
    }
   }
  },
  {
   "cell_type": "code",
   "execution_count": 9,
   "outputs": [],
   "source": [
    "def count_weight(pts):\n",
    "    points = pts.copy()\n",
    "    weight = 0\n",
    "    for point in points:\n",
    "        y = point[1]\n",
    "        weight += y\n",
    "    return weight\n",
    "\n",
    "def make_convex(points, reverse = False):\n",
    "    arr_point = points.copy()\n",
    "    threshold_weight = None\n",
    "    final_points = None\n",
    "    agl = None\n",
    "\n",
    "    for i in range(360):\n",
    "        temp_points = rotate(arr_point, i)\n",
    "        weight = count_weight(temp_points)\n",
    "        # print(weight)\n",
    "        if threshold_weight is None:\n",
    "            threshold_weight = weight\n",
    "            final_points = temp_points\n",
    "            agl = i\n",
    "        elif not reverse and weight > threshold_weight:\n",
    "            threshold_weight = weight\n",
    "            final_points = temp_points\n",
    "            agl = i\n",
    "        elif reverse and weight < threshold_weight:\n",
    "            threshold_weight = weight\n",
    "            final_points = temp_points\n",
    "            agl = i\n",
    "\n",
    "    return final_points, agl"
   ],
   "metadata": {
    "collapsed": false,
    "pycharm": {
     "name": "#%%\n"
    }
   }
  },
  {
   "cell_type": "code",
   "execution_count": 11,
   "outputs": [
    {
     "data": {
      "text/plain": "<Figure size 432x288 with 1 Axes>",
      "image/png": "[encoded data removed]"
     },
     "metadata": {
      "needs_background": "light"
     },
     "output_type": "display_data"
    },
    {
     "name": "stdout",
     "output_type": "stream",
     "text": [
      "[[-0.3146602  -0.11142702]\n",
      " [-0.01900905  2.70150569]\n",
      " [-0.79615502  2.07218529]\n",
      " [ 1.09180616 -0.25925259]]\n"
     ]
    },
    {
     "data": {
      "text/plain": "<Figure size 432x288 with 1 Axes>",
      "image/png": "[encoded data removed]"
     },
     "metadata": {
      "needs_background": "light"
     },
     "output_type": "display_data"
    }
   ],
   "source": [
    "points = np.array([\n",
    "    [0, 0],\n",
    "    [2, 2],\n",
    "    [1, 2],\n",
    "    [1, -1]\n",
    "]).astype('float64')\n",
    "\n",
    "plot(points, 'Before Rotation')\n",
    "\n",
    "fp, agl = make_convex(points)\n",
    "\n",
    "print(fp)\n",
    "plot(fp, 'After Rotation')\n"
   ],
   "metadata": {
    "collapsed": false,
    "pycharm": {
     "name": "#%%\n"
    }
   }
  },
  {
   "cell_type": "code",
   "execution_count": 5,
   "outputs": [],
   "source": [],
   "metadata": {
    "collapsed": false,
    "pycharm": {
     "name": "#%%\n"
    }
   }
  }
 ],
 "metadata": {
  "kernelspec": {
   "display_name": "Python 3",
   "language": "python",
   "name": "python3"
  },
  "language_info": {
   "codemirror_mode": {
    "name": "ipython",
    "version": 2
   },
   "file_extension": ".py",
   "mimetype": "text/x-python",
   "name": "python",
   "nbconvert_exporter": "python",
   "pygments_lexer": "ipython2",
   "version": "2.7.6"
  }
 },
 "nbformat": 4,
 "nbformat_minor": 0
}